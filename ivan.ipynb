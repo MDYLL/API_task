{
 "cells": [
  {
   "cell_type": "code",
   "execution_count": 1,
   "metadata": {},
   "outputs": [],
   "source": [
    "import pandas as pd"
   ]
  },
  {
   "cell_type": "markdown",
   "metadata": {},
   "source": [
    "### открываем таблицу"
   ]
  },
  {
   "cell_type": "code",
   "execution_count": 45,
   "metadata": {},
   "outputs": [],
   "source": [
    "df=pd.read_csv('C:/Users/User/1.csv',sep=';',encoding='cp1251')"
   ]
  },
  {
   "cell_type": "markdown",
   "metadata": {},
   "source": [
    "### смотрим первые 5 строк"
   ]
  },
  {
   "cell_type": "code",
   "execution_count": 46,
   "metadata": {},
   "outputs": [
    {
     "data": {
      "text/html": [
       "<div>\n",
       "<style scoped>\n",
       "    .dataframe tbody tr th:only-of-type {\n",
       "        vertical-align: middle;\n",
       "    }\n",
       "\n",
       "    .dataframe tbody tr th {\n",
       "        vertical-align: top;\n",
       "    }\n",
       "\n",
       "    .dataframe thead th {\n",
       "        text-align: right;\n",
       "    }\n",
       "</style>\n",
       "<table border=\"1\" class=\"dataframe\">\n",
       "  <thead>\n",
       "    <tr style=\"text-align: right;\">\n",
       "      <th></th>\n",
       "      <th>REP_D</th>\n",
       "      <th>MON</th>\n",
       "      <th>MON_LIVING</th>\n",
       "      <th>CT_NAME</th>\n",
       "      <th>SERV_NAME</th>\n",
       "      <th>MSISDN</th>\n",
       "      <th>CONTRACT_DATE</th>\n",
       "      <th>REG</th>\n",
       "      <th>ACT_FLG</th>\n",
       "      <th>REVENUE_TOTAL</th>\n",
       "      <th>ANY_TR</th>\n",
       "      <th>PD_TOTAL_TRAF</th>\n",
       "      <th>INCOMING_TR_TOTAL</th>\n",
       "      <th>OUT_TR_TOTAL</th>\n",
       "    </tr>\n",
       "  </thead>\n",
       "  <tbody>\n",
       "    <tr>\n",
       "      <th>0</th>\n",
       "      <td>31.01.2020</td>\n",
       "      <td>31.01.2020</td>\n",
       "      <td>1</td>\n",
       "      <td>B2B2C</td>\n",
       "      <td>Пакет \"Бизнес 200\"</td>\n",
       "      <td>9957411207</td>\n",
       "      <td>20.01.2020</td>\n",
       "      <td>Краснодарский край</td>\n",
       "      <td>1</td>\n",
       "      <td>200,0001</td>\n",
       "      <td>NaN</td>\n",
       "      <td>NaN</td>\n",
       "      <td>NaN</td>\n",
       "      <td>NaN</td>\n",
       "    </tr>\n",
       "    <tr>\n",
       "      <th>1</th>\n",
       "      <td>31.01.2020</td>\n",
       "      <td>31.01.2020</td>\n",
       "      <td>1</td>\n",
       "      <td>B2B</td>\n",
       "      <td>NaN</td>\n",
       "      <td>9770678557</td>\n",
       "      <td>31.01.2020</td>\n",
       "      <td>Белгородская обл.</td>\n",
       "      <td>0</td>\n",
       "      <td>0</td>\n",
       "      <td>NaN</td>\n",
       "      <td>NaN</td>\n",
       "      <td>NaN</td>\n",
       "      <td>NaN</td>\n",
       "    </tr>\n",
       "    <tr>\n",
       "      <th>2</th>\n",
       "      <td>31.01.2020</td>\n",
       "      <td>31.01.2020</td>\n",
       "      <td>1</td>\n",
       "      <td>B2B2C</td>\n",
       "      <td>Пакет \"Бизнес 200\"</td>\n",
       "      <td>9770551246</td>\n",
       "      <td>21.01.2020</td>\n",
       "      <td>г. Москва и Московская обл.</td>\n",
       "      <td>1</td>\n",
       "      <td>170,0001</td>\n",
       "      <td>19.0</td>\n",
       "      <td>5300,54</td>\n",
       "      <td>0</td>\n",
       "      <td>3.0</td>\n",
       "    </tr>\n",
       "    <tr>\n",
       "      <th>3</th>\n",
       "      <td>31.01.2020</td>\n",
       "      <td>31.01.2020</td>\n",
       "      <td>1</td>\n",
       "      <td>B2B2C</td>\n",
       "      <td>Пакет \"Бизнес 200\"</td>\n",
       "      <td>9585945594</td>\n",
       "      <td>31.01.2020</td>\n",
       "      <td>г. Москва и Московская обл.</td>\n",
       "      <td>1</td>\n",
       "      <td>170,0001</td>\n",
       "      <td>NaN</td>\n",
       "      <td>NaN</td>\n",
       "      <td>NaN</td>\n",
       "      <td>NaN</td>\n",
       "    </tr>\n",
       "    <tr>\n",
       "      <th>4</th>\n",
       "      <td>31.01.2020</td>\n",
       "      <td>31.01.2020</td>\n",
       "      <td>1</td>\n",
       "      <td>B2B2C</td>\n",
       "      <td>Пакет \"Бизнес 200\"</td>\n",
       "      <td>9800443865</td>\n",
       "      <td>31.01.2020</td>\n",
       "      <td>Тюменская обл.</td>\n",
       "      <td>1</td>\n",
       "      <td>200,0001</td>\n",
       "      <td>NaN</td>\n",
       "      <td>NaN</td>\n",
       "      <td>NaN</td>\n",
       "      <td>NaN</td>\n",
       "    </tr>\n",
       "  </tbody>\n",
       "</table>\n",
       "</div>"
      ],
      "text/plain": [
       "        REP_D         MON  MON_LIVING CT_NAME           SERV_NAME      MSISDN  \\\n",
       "0  31.01.2020  31.01.2020           1   B2B2C  Пакет \"Бизнес 200\"  9957411207   \n",
       "1  31.01.2020  31.01.2020           1     B2B                 NaN  9770678557   \n",
       "2  31.01.2020  31.01.2020           1   B2B2C  Пакет \"Бизнес 200\"  9770551246   \n",
       "3  31.01.2020  31.01.2020           1   B2B2C  Пакет \"Бизнес 200\"  9585945594   \n",
       "4  31.01.2020  31.01.2020           1   B2B2C  Пакет \"Бизнес 200\"  9800443865   \n",
       "\n",
       "  CONTRACT_DATE                          REG  ACT_FLG REVENUE_TOTAL  ANY_TR  \\\n",
       "0    20.01.2020           Краснодарский край        1      200,0001     NaN   \n",
       "1    31.01.2020            Белгородская обл.        0             0     NaN   \n",
       "2    21.01.2020  г. Москва и Московская обл.        1      170,0001    19.0   \n",
       "3    31.01.2020  г. Москва и Московская обл.        1      170,0001     NaN   \n",
       "4    31.01.2020               Тюменская обл.        1      200,0001     NaN   \n",
       "\n",
       "  PD_TOTAL_TRAF INCOMING_TR_TOTAL  OUT_TR_TOTAL  \n",
       "0           NaN               NaN           NaN  \n",
       "1           NaN               NaN           NaN  \n",
       "2       5300,54                 0           3.0  \n",
       "3           NaN               NaN           NaN  \n",
       "4           NaN               NaN           NaN  "
      ]
     },
     "execution_count": 46,
     "metadata": {},
     "output_type": "execute_result"
    }
   ],
   "source": [
    "df.head()"
   ]
  },
  {
   "cell_type": "markdown",
   "metadata": {},
   "source": [
    "### смотрим последние 5 строк"
   ]
  },
  {
   "cell_type": "code",
   "execution_count": 47,
   "metadata": {},
   "outputs": [
    {
     "data": {
      "text/html": [
       "<div>\n",
       "<style scoped>\n",
       "    .dataframe tbody tr th:only-of-type {\n",
       "        vertical-align: middle;\n",
       "    }\n",
       "\n",
       "    .dataframe tbody tr th {\n",
       "        vertical-align: top;\n",
       "    }\n",
       "\n",
       "    .dataframe thead th {\n",
       "        text-align: right;\n",
       "    }\n",
       "</style>\n",
       "<table border=\"1\" class=\"dataframe\">\n",
       "  <thead>\n",
       "    <tr style=\"text-align: right;\">\n",
       "      <th></th>\n",
       "      <th>REP_D</th>\n",
       "      <th>MON</th>\n",
       "      <th>MON_LIVING</th>\n",
       "      <th>CT_NAME</th>\n",
       "      <th>SERV_NAME</th>\n",
       "      <th>MSISDN</th>\n",
       "      <th>CONTRACT_DATE</th>\n",
       "      <th>REG</th>\n",
       "      <th>ACT_FLG</th>\n",
       "      <th>REVENUE_TOTAL</th>\n",
       "      <th>ANY_TR</th>\n",
       "      <th>PD_TOTAL_TRAF</th>\n",
       "      <th>INCOMING_TR_TOTAL</th>\n",
       "      <th>OUT_TR_TOTAL</th>\n",
       "    </tr>\n",
       "  </thead>\n",
       "  <tbody>\n",
       "    <tr>\n",
       "      <th>197249</th>\n",
       "      <td>30.06.2020</td>\n",
       "      <td>29.02.2020</td>\n",
       "      <td>5</td>\n",
       "      <td>B2B2C</td>\n",
       "      <td>Пакет \"Бизнес 200\"</td>\n",
       "      <td>9770656302</td>\n",
       "      <td>10.02.2020</td>\n",
       "      <td>Волгоградская обл.</td>\n",
       "      <td>0</td>\n",
       "      <td>0</td>\n",
       "      <td>NaN</td>\n",
       "      <td>NaN</td>\n",
       "      <td>NaN</td>\n",
       "      <td>NaN</td>\n",
       "    </tr>\n",
       "    <tr>\n",
       "      <th>197250</th>\n",
       "      <td>30.06.2020</td>\n",
       "      <td>31.03.2020</td>\n",
       "      <td>4</td>\n",
       "      <td>B2B2C</td>\n",
       "      <td>Пакет \"Бизнес 200\"</td>\n",
       "      <td>9770652573</td>\n",
       "      <td>05.03.2020</td>\n",
       "      <td>Волгоградская обл.</td>\n",
       "      <td>1</td>\n",
       "      <td>4,9999</td>\n",
       "      <td>NaN</td>\n",
       "      <td>NaN</td>\n",
       "      <td>NaN</td>\n",
       "      <td>NaN</td>\n",
       "    </tr>\n",
       "    <tr>\n",
       "      <th>197251</th>\n",
       "      <td>30.06.2020</td>\n",
       "      <td>31.01.2020</td>\n",
       "      <td>6</td>\n",
       "      <td>B2B2C</td>\n",
       "      <td>NaN</td>\n",
       "      <td>9957410621</td>\n",
       "      <td>16.01.2020</td>\n",
       "      <td>Краснодарский край</td>\n",
       "      <td>1</td>\n",
       "      <td>2,0055</td>\n",
       "      <td>NaN</td>\n",
       "      <td>NaN</td>\n",
       "      <td>NaN</td>\n",
       "      <td>NaN</td>\n",
       "    </tr>\n",
       "    <tr>\n",
       "      <th>197252</th>\n",
       "      <td>30.06.2020</td>\n",
       "      <td>30.06.2020</td>\n",
       "      <td>1</td>\n",
       "      <td>B2B</td>\n",
       "      <td>NaN</td>\n",
       "      <td>9955254783</td>\n",
       "      <td>18.06.2020</td>\n",
       "      <td>Приморский край</td>\n",
       "      <td>0</td>\n",
       "      <td>0</td>\n",
       "      <td>NaN</td>\n",
       "      <td>NaN</td>\n",
       "      <td>NaN</td>\n",
       "      <td>NaN</td>\n",
       "    </tr>\n",
       "    <tr>\n",
       "      <th>197253</th>\n",
       "      <td>30.06.2020</td>\n",
       "      <td>29.02.2020</td>\n",
       "      <td>5</td>\n",
       "      <td>B2B2C</td>\n",
       "      <td>Пакет \"Бизнес 200\"</td>\n",
       "      <td>9800892529</td>\n",
       "      <td>27.02.2020</td>\n",
       "      <td>г. Москва и Московская обл.</td>\n",
       "      <td>1</td>\n",
       "      <td>9,9999</td>\n",
       "      <td>NaN</td>\n",
       "      <td>NaN</td>\n",
       "      <td>NaN</td>\n",
       "      <td>NaN</td>\n",
       "    </tr>\n",
       "  </tbody>\n",
       "</table>\n",
       "</div>"
      ],
      "text/plain": [
       "             REP_D         MON  MON_LIVING CT_NAME           SERV_NAME  \\\n",
       "197249  30.06.2020  29.02.2020           5   B2B2C  Пакет \"Бизнес 200\"   \n",
       "197250  30.06.2020  31.03.2020           4   B2B2C  Пакет \"Бизнес 200\"   \n",
       "197251  30.06.2020  31.01.2020           6   B2B2C                 NaN   \n",
       "197252  30.06.2020  30.06.2020           1     B2B                 NaN   \n",
       "197253  30.06.2020  29.02.2020           5   B2B2C  Пакет \"Бизнес 200\"   \n",
       "\n",
       "            MSISDN CONTRACT_DATE                          REG  ACT_FLG  \\\n",
       "197249  9770656302    10.02.2020           Волгоградская обл.        0   \n",
       "197250  9770652573    05.03.2020           Волгоградская обл.        1   \n",
       "197251  9957410621    16.01.2020           Краснодарский край        1   \n",
       "197252  9955254783    18.06.2020              Приморский край        0   \n",
       "197253  9800892529    27.02.2020  г. Москва и Московская обл.        1   \n",
       "\n",
       "       REVENUE_TOTAL  ANY_TR PD_TOTAL_TRAF INCOMING_TR_TOTAL  OUT_TR_TOTAL  \n",
       "197249             0     NaN           NaN               NaN           NaN  \n",
       "197250        4,9999     NaN           NaN               NaN           NaN  \n",
       "197251        2,0055     NaN           NaN               NaN           NaN  \n",
       "197252             0     NaN           NaN               NaN           NaN  \n",
       "197253        9,9999     NaN           NaN               NaN           NaN  "
      ]
     },
     "execution_count": 47,
     "metadata": {},
     "output_type": "execute_result"
    }
   ],
   "source": [
    "df.tail()"
   ]
  },
  {
   "cell_type": "markdown",
   "metadata": {},
   "source": [
    "### считаем уникальные записи в столбце CT_NAME"
   ]
  },
  {
   "cell_type": "code",
   "execution_count": 48,
   "metadata": {},
   "outputs": [
    {
     "data": {
      "text/plain": [
       "4"
      ]
     },
     "execution_count": 48,
     "metadata": {},
     "output_type": "execute_result"
    }
   ],
   "source": [
    "df['CT_NAME'].nunique()"
   ]
  },
  {
   "cell_type": "markdown",
   "metadata": {},
   "source": [
    "### их мало (четыре) - можем посмотреть"
   ]
  },
  {
   "cell_type": "code",
   "execution_count": 49,
   "metadata": {},
   "outputs": [
    {
     "data": {
      "text/plain": [
       "array(['B2B2C', 'B2B', 'Корпоративные', ' Клиент'], dtype=object)"
      ]
     },
     "execution_count": 49,
     "metadata": {},
     "output_type": "execute_result"
    }
   ],
   "source": [
    "df.CT_NAME.unique()\n"
   ]
  },
  {
   "cell_type": "markdown",
   "metadata": {},
   "source": [
    "### посчитаем, сколько строк по каждому значению CT_NAME"
   ]
  },
  {
   "cell_type": "code",
   "execution_count": 50,
   "metadata": {},
   "outputs": [
    {
     "data": {
      "text/plain": [
       "B2B2C            164955\n",
       "Корпоративные     23784\n",
       "B2B                4487\n",
       " Клиент            4028\n",
       "Name: CT_NAME, dtype: int64"
      ]
     },
     "execution_count": 50,
     "metadata": {},
     "output_type": "execute_result"
    }
   ],
   "source": [
    "df.CT_NAME.value_counts()"
   ]
  },
  {
   "cell_type": "markdown",
   "metadata": {},
   "source": [
    "### посчитаем общий доход в разрезе регионов\n",
    "### сначала переведем тип данных в числовой"
   ]
  },
  {
   "cell_type": "code",
   "execution_count": 51,
   "metadata": {},
   "outputs": [],
   "source": [
    "df.REVENUE_TOTAL=df.REVENUE_TOTAL.str.replace(',','.')"
   ]
  },
  {
   "cell_type": "code",
   "execution_count": 52,
   "metadata": {},
   "outputs": [],
   "source": [
    "df.REVENUE_TOTAL=df.REVENUE_TOTAL.astype(float)"
   ]
  },
  {
   "cell_type": "markdown",
   "metadata": {},
   "source": [
    "### просуммируем и отсортируем по убыванию"
   ]
  },
  {
   "cell_type": "code",
   "execution_count": 53,
   "metadata": {},
   "outputs": [
    {
     "data": {
      "text/plain": [
       "REG\n",
       "г. Москва и Московская обл.                2.915899e+06\n",
       "Волгоградская обл.                         1.150417e+06\n",
       "г. Санкт-Петербург и Ленинградская обл.    6.555303e+05\n",
       "Ростовская обл.                            4.817387e+05\n",
       "Краснодарский край                         3.547483e+05\n",
       "                                               ...     \n",
       "Еврейская автономная обл.                  5.877998e+03\n",
       "Магаданская обл.                           3.340001e+03\n",
       "Респ. Тыва                                 1.788000e+03\n",
       "Респ. Хакасия                              1.472479e+03\n",
       "Камчатский край                            2.000001e+02\n",
       "Name: REVENUE_TOTAL, Length: 64, dtype: float64"
      ]
     },
     "execution_count": 53,
     "metadata": {},
     "output_type": "execute_result"
    }
   ],
   "source": [
    "df.groupby('REG')['REVENUE_TOTAL'].sum().sort_values(ascending=False)"
   ]
  },
  {
   "cell_type": "code",
   "execution_count": null,
   "metadata": {},
   "outputs": [],
   "source": []
  }
 ],
 "metadata": {
  "kernelspec": {
   "display_name": "Python 3",
   "language": "python",
   "name": "python3"
  },
  "language_info": {
   "codemirror_mode": {
    "name": "ipython",
    "version": 3
   },
   "file_extension": ".py",
   "mimetype": "text/x-python",
   "name": "python",
   "nbconvert_exporter": "python",
   "pygments_lexer": "ipython3",
   "version": "3.7.5"
  }
 },
 "nbformat": 4,
 "nbformat_minor": 2
}

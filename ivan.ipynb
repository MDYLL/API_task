{
 "cells": [
  {
   "cell_type": "code",
   "execution_count": 1,
   "metadata": {},
   "outputs": [],
   "source": [
    "import pandas as pd"
   ]
  },
  {
   "cell_type": "markdown",
   "metadata": {},
   "source": [
    "### открываем таблицу"
   ]
  },
  {
   "cell_type": "code",
   "execution_count": 73,
   "metadata": {},
   "outputs": [],
   "source": [
    "df=pd.read_csv('C:/Users/User/1.csv',sep=';',encoding='cp1251')"
   ]
  },
  {
   "cell_type": "markdown",
   "metadata": {},
   "source": [
    "### смотрим первые 5 строк"
   ]
  },
  {
   "cell_type": "code",
   "execution_count": 74,
   "metadata": {},
   "outputs": [
    {
     "data": {
      "text/html": [
       "<div>\n",
       "<style scoped>\n",
       "    .dataframe tbody tr th:only-of-type {\n",
       "        vertical-align: middle;\n",
       "    }\n",
       "\n",
       "    .dataframe tbody tr th {\n",
       "        vertical-align: top;\n",
       "    }\n",
       "\n",
       "    .dataframe thead th {\n",
       "        text-align: right;\n",
       "    }\n",
       "</style>\n",
       "<table border=\"1\" class=\"dataframe\">\n",
       "  <thead>\n",
       "    <tr style=\"text-align: right;\">\n",
       "      <th></th>\n",
       "      <th>REP_D</th>\n",
       "      <th>MON</th>\n",
       "      <th>MON_LIVING</th>\n",
       "      <th>CT_NAME</th>\n",
       "      <th>SERV_NAME</th>\n",
       "      <th>MSISDN</th>\n",
       "      <th>CONTRACT_DATE</th>\n",
       "      <th>REG</th>\n",
       "      <th>ACT_FLG</th>\n",
       "      <th>REVENUE_TOTAL</th>\n",
       "      <th>ANY_TR</th>\n",
       "      <th>PD_TOTAL_TRAF</th>\n",
       "      <th>INCOMING_TR_TOTAL</th>\n",
       "      <th>OUT_TR_TOTAL</th>\n",
       "    </tr>\n",
       "  </thead>\n",
       "  <tbody>\n",
       "    <tr>\n",
       "      <th>0</th>\n",
       "      <td>31.01.2020</td>\n",
       "      <td>31.01.2020</td>\n",
       "      <td>1</td>\n",
       "      <td>B2B2C</td>\n",
       "      <td>Пакет \"Бизнес 200\"</td>\n",
       "      <td>9957411207</td>\n",
       "      <td>20.01.2020</td>\n",
       "      <td>Краснодарский край</td>\n",
       "      <td>1</td>\n",
       "      <td>200,0001</td>\n",
       "      <td>NaN</td>\n",
       "      <td>NaN</td>\n",
       "      <td>NaN</td>\n",
       "      <td>NaN</td>\n",
       "    </tr>\n",
       "    <tr>\n",
       "      <th>1</th>\n",
       "      <td>31.01.2020</td>\n",
       "      <td>31.01.2020</td>\n",
       "      <td>1</td>\n",
       "      <td>B2B</td>\n",
       "      <td>NaN</td>\n",
       "      <td>9770678557</td>\n",
       "      <td>31.01.2020</td>\n",
       "      <td>Белгородская обл.</td>\n",
       "      <td>0</td>\n",
       "      <td>0</td>\n",
       "      <td>NaN</td>\n",
       "      <td>NaN</td>\n",
       "      <td>NaN</td>\n",
       "      <td>NaN</td>\n",
       "    </tr>\n",
       "    <tr>\n",
       "      <th>2</th>\n",
       "      <td>31.01.2020</td>\n",
       "      <td>31.01.2020</td>\n",
       "      <td>1</td>\n",
       "      <td>B2B2C</td>\n",
       "      <td>Пакет \"Бизнес 200\"</td>\n",
       "      <td>9770551246</td>\n",
       "      <td>21.01.2020</td>\n",
       "      <td>г. Москва и Московская обл.</td>\n",
       "      <td>1</td>\n",
       "      <td>170,0001</td>\n",
       "      <td>19.0</td>\n",
       "      <td>5300,54</td>\n",
       "      <td>0</td>\n",
       "      <td>3.0</td>\n",
       "    </tr>\n",
       "    <tr>\n",
       "      <th>3</th>\n",
       "      <td>31.01.2020</td>\n",
       "      <td>31.01.2020</td>\n",
       "      <td>1</td>\n",
       "      <td>B2B2C</td>\n",
       "      <td>Пакет \"Бизнес 200\"</td>\n",
       "      <td>9585945594</td>\n",
       "      <td>31.01.2020</td>\n",
       "      <td>г. Москва и Московская обл.</td>\n",
       "      <td>1</td>\n",
       "      <td>170,0001</td>\n",
       "      <td>NaN</td>\n",
       "      <td>NaN</td>\n",
       "      <td>NaN</td>\n",
       "      <td>NaN</td>\n",
       "    </tr>\n",
       "    <tr>\n",
       "      <th>4</th>\n",
       "      <td>31.01.2020</td>\n",
       "      <td>31.01.2020</td>\n",
       "      <td>1</td>\n",
       "      <td>B2B2C</td>\n",
       "      <td>Пакет \"Бизнес 200\"</td>\n",
       "      <td>9800443865</td>\n",
       "      <td>31.01.2020</td>\n",
       "      <td>Тюменская обл.</td>\n",
       "      <td>1</td>\n",
       "      <td>200,0001</td>\n",
       "      <td>NaN</td>\n",
       "      <td>NaN</td>\n",
       "      <td>NaN</td>\n",
       "      <td>NaN</td>\n",
       "    </tr>\n",
       "  </tbody>\n",
       "</table>\n",
       "</div>"
      ],
      "text/plain": [
       "        REP_D         MON  MON_LIVING CT_NAME           SERV_NAME      MSISDN  \\\n",
       "0  31.01.2020  31.01.2020           1   B2B2C  Пакет \"Бизнес 200\"  9957411207   \n",
       "1  31.01.2020  31.01.2020           1     B2B                 NaN  9770678557   \n",
       "2  31.01.2020  31.01.2020           1   B2B2C  Пакет \"Бизнес 200\"  9770551246   \n",
       "3  31.01.2020  31.01.2020           1   B2B2C  Пакет \"Бизнес 200\"  9585945594   \n",
       "4  31.01.2020  31.01.2020           1   B2B2C  Пакет \"Бизнес 200\"  9800443865   \n",
       "\n",
       "  CONTRACT_DATE                          REG  ACT_FLG REVENUE_TOTAL  ANY_TR  \\\n",
       "0    20.01.2020           Краснодарский край        1      200,0001     NaN   \n",
       "1    31.01.2020            Белгородская обл.        0             0     NaN   \n",
       "2    21.01.2020  г. Москва и Московская обл.        1      170,0001    19.0   \n",
       "3    31.01.2020  г. Москва и Московская обл.        1      170,0001     NaN   \n",
       "4    31.01.2020               Тюменская обл.        1      200,0001     NaN   \n",
       "\n",
       "  PD_TOTAL_TRAF INCOMING_TR_TOTAL  OUT_TR_TOTAL  \n",
       "0           NaN               NaN           NaN  \n",
       "1           NaN               NaN           NaN  \n",
       "2       5300,54                 0           3.0  \n",
       "3           NaN               NaN           NaN  \n",
       "4           NaN               NaN           NaN  "
      ]
     },
     "execution_count": 74,
     "metadata": {},
     "output_type": "execute_result"
    }
   ],
   "source": [
    "df.head()"
   ]
  },
  {
   "cell_type": "code",
   "execution_count": 75,
   "metadata": {},
   "outputs": [],
   "source": [
    "df.REP_D=pd.to_datetime(df['REP_D'])"
   ]
  },
  {
   "cell_type": "code",
   "execution_count": 76,
   "metadata": {},
   "outputs": [
    {
     "data": {
      "text/plain": [
       "REP_D                datetime64[ns]\n",
       "MON                          object\n",
       "MON_LIVING                    int64\n",
       "CT_NAME                      object\n",
       "SERV_NAME                    object\n",
       "MSISDN                        int64\n",
       "CONTRACT_DATE                object\n",
       "REG                          object\n",
       "ACT_FLG                       int64\n",
       "REVENUE_TOTAL                object\n",
       "ANY_TR                      float64\n",
       "PD_TOTAL_TRAF                object\n",
       "INCOMING_TR_TOTAL            object\n",
       "OUT_TR_TOTAL                float64\n",
       "dtype: object"
      ]
     },
     "execution_count": 76,
     "metadata": {},
     "output_type": "execute_result"
    }
   ],
   "source": [
    "df.dtypes"
   ]
  },
  {
   "cell_type": "markdown",
   "metadata": {},
   "source": [
    "### смотрим последние 5 строк"
   ]
  },
  {
   "cell_type": "code",
   "execution_count": 77,
   "metadata": {},
   "outputs": [
    {
     "data": {
      "text/html": [
       "<div>\n",
       "<style scoped>\n",
       "    .dataframe tbody tr th:only-of-type {\n",
       "        vertical-align: middle;\n",
       "    }\n",
       "\n",
       "    .dataframe tbody tr th {\n",
       "        vertical-align: top;\n",
       "    }\n",
       "\n",
       "    .dataframe thead th {\n",
       "        text-align: right;\n",
       "    }\n",
       "</style>\n",
       "<table border=\"1\" class=\"dataframe\">\n",
       "  <thead>\n",
       "    <tr style=\"text-align: right;\">\n",
       "      <th></th>\n",
       "      <th>REP_D</th>\n",
       "      <th>MON</th>\n",
       "      <th>MON_LIVING</th>\n",
       "      <th>CT_NAME</th>\n",
       "      <th>SERV_NAME</th>\n",
       "      <th>MSISDN</th>\n",
       "      <th>CONTRACT_DATE</th>\n",
       "      <th>REG</th>\n",
       "      <th>ACT_FLG</th>\n",
       "      <th>REVENUE_TOTAL</th>\n",
       "      <th>ANY_TR</th>\n",
       "      <th>PD_TOTAL_TRAF</th>\n",
       "      <th>INCOMING_TR_TOTAL</th>\n",
       "      <th>OUT_TR_TOTAL</th>\n",
       "    </tr>\n",
       "  </thead>\n",
       "  <tbody>\n",
       "    <tr>\n",
       "      <th>197249</th>\n",
       "      <td>2020-06-30</td>\n",
       "      <td>29.02.2020</td>\n",
       "      <td>5</td>\n",
       "      <td>B2B2C</td>\n",
       "      <td>Пакет \"Бизнес 200\"</td>\n",
       "      <td>9770656302</td>\n",
       "      <td>10.02.2020</td>\n",
       "      <td>Волгоградская обл.</td>\n",
       "      <td>0</td>\n",
       "      <td>0</td>\n",
       "      <td>NaN</td>\n",
       "      <td>NaN</td>\n",
       "      <td>NaN</td>\n",
       "      <td>NaN</td>\n",
       "    </tr>\n",
       "    <tr>\n",
       "      <th>197250</th>\n",
       "      <td>2020-06-30</td>\n",
       "      <td>31.03.2020</td>\n",
       "      <td>4</td>\n",
       "      <td>B2B2C</td>\n",
       "      <td>Пакет \"Бизнес 200\"</td>\n",
       "      <td>9770652573</td>\n",
       "      <td>05.03.2020</td>\n",
       "      <td>Волгоградская обл.</td>\n",
       "      <td>1</td>\n",
       "      <td>4,9999</td>\n",
       "      <td>NaN</td>\n",
       "      <td>NaN</td>\n",
       "      <td>NaN</td>\n",
       "      <td>NaN</td>\n",
       "    </tr>\n",
       "    <tr>\n",
       "      <th>197251</th>\n",
       "      <td>2020-06-30</td>\n",
       "      <td>31.01.2020</td>\n",
       "      <td>6</td>\n",
       "      <td>B2B2C</td>\n",
       "      <td>NaN</td>\n",
       "      <td>9957410621</td>\n",
       "      <td>16.01.2020</td>\n",
       "      <td>Краснодарский край</td>\n",
       "      <td>1</td>\n",
       "      <td>2,0055</td>\n",
       "      <td>NaN</td>\n",
       "      <td>NaN</td>\n",
       "      <td>NaN</td>\n",
       "      <td>NaN</td>\n",
       "    </tr>\n",
       "    <tr>\n",
       "      <th>197252</th>\n",
       "      <td>2020-06-30</td>\n",
       "      <td>30.06.2020</td>\n",
       "      <td>1</td>\n",
       "      <td>B2B</td>\n",
       "      <td>NaN</td>\n",
       "      <td>9955254783</td>\n",
       "      <td>18.06.2020</td>\n",
       "      <td>Приморский край</td>\n",
       "      <td>0</td>\n",
       "      <td>0</td>\n",
       "      <td>NaN</td>\n",
       "      <td>NaN</td>\n",
       "      <td>NaN</td>\n",
       "      <td>NaN</td>\n",
       "    </tr>\n",
       "    <tr>\n",
       "      <th>197253</th>\n",
       "      <td>2020-06-30</td>\n",
       "      <td>29.02.2020</td>\n",
       "      <td>5</td>\n",
       "      <td>B2B2C</td>\n",
       "      <td>Пакет \"Бизнес 200\"</td>\n",
       "      <td>9800892529</td>\n",
       "      <td>27.02.2020</td>\n",
       "      <td>г. Москва и Московская обл.</td>\n",
       "      <td>1</td>\n",
       "      <td>9,9999</td>\n",
       "      <td>NaN</td>\n",
       "      <td>NaN</td>\n",
       "      <td>NaN</td>\n",
       "      <td>NaN</td>\n",
       "    </tr>\n",
       "  </tbody>\n",
       "</table>\n",
       "</div>"
      ],
      "text/plain": [
       "            REP_D         MON  MON_LIVING CT_NAME           SERV_NAME  \\\n",
       "197249 2020-06-30  29.02.2020           5   B2B2C  Пакет \"Бизнес 200\"   \n",
       "197250 2020-06-30  31.03.2020           4   B2B2C  Пакет \"Бизнес 200\"   \n",
       "197251 2020-06-30  31.01.2020           6   B2B2C                 NaN   \n",
       "197252 2020-06-30  30.06.2020           1     B2B                 NaN   \n",
       "197253 2020-06-30  29.02.2020           5   B2B2C  Пакет \"Бизнес 200\"   \n",
       "\n",
       "            MSISDN CONTRACT_DATE                          REG  ACT_FLG  \\\n",
       "197249  9770656302    10.02.2020           Волгоградская обл.        0   \n",
       "197250  9770652573    05.03.2020           Волгоградская обл.        1   \n",
       "197251  9957410621    16.01.2020           Краснодарский край        1   \n",
       "197252  9955254783    18.06.2020              Приморский край        0   \n",
       "197253  9800892529    27.02.2020  г. Москва и Московская обл.        1   \n",
       "\n",
       "       REVENUE_TOTAL  ANY_TR PD_TOTAL_TRAF INCOMING_TR_TOTAL  OUT_TR_TOTAL  \n",
       "197249             0     NaN           NaN               NaN           NaN  \n",
       "197250        4,9999     NaN           NaN               NaN           NaN  \n",
       "197251        2,0055     NaN           NaN               NaN           NaN  \n",
       "197252             0     NaN           NaN               NaN           NaN  \n",
       "197253        9,9999     NaN           NaN               NaN           NaN  "
      ]
     },
     "execution_count": 77,
     "metadata": {},
     "output_type": "execute_result"
    }
   ],
   "source": [
    "df.tail()"
   ]
  },
  {
   "cell_type": "markdown",
   "metadata": {},
   "source": [
    "### считаем уникальные записи в столбце CT_NAME"
   ]
  },
  {
   "cell_type": "code",
   "execution_count": 78,
   "metadata": {},
   "outputs": [
    {
     "data": {
      "text/plain": [
       "4"
      ]
     },
     "execution_count": 78,
     "metadata": {},
     "output_type": "execute_result"
    }
   ],
   "source": [
    "df['CT_NAME'].nunique()"
   ]
  },
  {
   "cell_type": "markdown",
   "metadata": {},
   "source": [
    "### их мало (четыре) - можем посмотреть"
   ]
  },
  {
   "cell_type": "code",
   "execution_count": 79,
   "metadata": {},
   "outputs": [
    {
     "data": {
      "text/plain": [
       "array(['B2B2C', 'B2B', 'Корпоративные', ' Клиент'], dtype=object)"
      ]
     },
     "execution_count": 79,
     "metadata": {},
     "output_type": "execute_result"
    }
   ],
   "source": [
    "df.CT_NAME.unique()\n"
   ]
  },
  {
   "cell_type": "markdown",
   "metadata": {},
   "source": [
    "### посчитаем, сколько строк по каждому значению CT_NAME"
   ]
  },
  {
   "cell_type": "code",
   "execution_count": 80,
   "metadata": {},
   "outputs": [
    {
     "data": {
      "text/plain": [
       "B2B2C            164955\n",
       "Корпоративные     23784\n",
       "B2B                4487\n",
       " Клиент            4028\n",
       "Name: CT_NAME, dtype: int64"
      ]
     },
     "execution_count": 80,
     "metadata": {},
     "output_type": "execute_result"
    }
   ],
   "source": [
    "df.CT_NAME.value_counts()"
   ]
  },
  {
   "cell_type": "code",
   "execution_count": 81,
   "metadata": {},
   "outputs": [],
   "source": [
    "df1=df.groupby(['REP_D','REG'])['ACT_FLG'].sum()"
   ]
  },
  {
   "cell_type": "code",
   "execution_count": 82,
   "metadata": {},
   "outputs": [],
   "source": [
    "a=df.groupby(['REP_D','REG']).size()"
   ]
  },
  {
   "cell_type": "code",
   "execution_count": 83,
   "metadata": {},
   "outputs": [],
   "source": [
    "b=df.groupby(['REP_D','REG'])['ACT_FLG'].sum()"
   ]
  },
  {
   "cell_type": "code",
   "execution_count": 84,
   "metadata": {},
   "outputs": [],
   "source": [
    "df1=pd.concat([a,b],axis=1)"
   ]
  },
  {
   "cell_type": "code",
   "execution_count": 85,
   "metadata": {},
   "outputs": [
    {
     "data": {
      "text/html": [
       "<div>\n",
       "<style scoped>\n",
       "    .dataframe tbody tr th:only-of-type {\n",
       "        vertical-align: middle;\n",
       "    }\n",
       "\n",
       "    .dataframe tbody tr th {\n",
       "        vertical-align: top;\n",
       "    }\n",
       "\n",
       "    .dataframe thead th {\n",
       "        text-align: right;\n",
       "    }\n",
       "</style>\n",
       "<table border=\"1\" class=\"dataframe\">\n",
       "  <thead>\n",
       "    <tr style=\"text-align: right;\">\n",
       "      <th></th>\n",
       "      <th></th>\n",
       "      <th>0</th>\n",
       "      <th>ACT_FLG</th>\n",
       "    </tr>\n",
       "    <tr>\n",
       "      <th>REP_D</th>\n",
       "      <th>REG</th>\n",
       "      <th></th>\n",
       "      <th></th>\n",
       "    </tr>\n",
       "  </thead>\n",
       "  <tbody>\n",
       "    <tr>\n",
       "      <th rowspan=\"5\" valign=\"top\">2020-01-31</th>\n",
       "      <th>Архангельская обл.</th>\n",
       "      <td>40</td>\n",
       "      <td>38</td>\n",
       "    </tr>\n",
       "    <tr>\n",
       "      <th>Респ. Бурятия</th>\n",
       "      <td>35</td>\n",
       "      <td>23</td>\n",
       "    </tr>\n",
       "    <tr>\n",
       "      <th>Респ. Карелия</th>\n",
       "      <td>12</td>\n",
       "      <td>8</td>\n",
       "    </tr>\n",
       "    <tr>\n",
       "      <th>Респ. Коми</th>\n",
       "      <td>186</td>\n",
       "      <td>173</td>\n",
       "    </tr>\n",
       "    <tr>\n",
       "      <th>Респ. Марий Эл</th>\n",
       "      <td>33</td>\n",
       "      <td>32</td>\n",
       "    </tr>\n",
       "    <tr>\n",
       "      <th>...</th>\n",
       "      <th>...</th>\n",
       "      <td>...</td>\n",
       "      <td>...</td>\n",
       "    </tr>\n",
       "    <tr>\n",
       "      <th rowspan=\"5\" valign=\"top\">2020-06-30</th>\n",
       "      <th>Новосибирская обл.</th>\n",
       "      <td>224</td>\n",
       "      <td>106</td>\n",
       "    </tr>\n",
       "    <tr>\n",
       "      <th>Омская обл.</th>\n",
       "      <td>274</td>\n",
       "      <td>178</td>\n",
       "    </tr>\n",
       "    <tr>\n",
       "      <th>Оренбургская обл.</th>\n",
       "      <td>331</td>\n",
       "      <td>226</td>\n",
       "    </tr>\n",
       "    <tr>\n",
       "      <th>Пензенская обл.</th>\n",
       "      <td>135</td>\n",
       "      <td>44</td>\n",
       "    </tr>\n",
       "    <tr>\n",
       "      <th>г. Санкт-Петербург и Ленинградская обл.</th>\n",
       "      <td>3246</td>\n",
       "      <td>568</td>\n",
       "    </tr>\n",
       "  </tbody>\n",
       "</table>\n",
       "<p>363 rows × 2 columns</p>\n",
       "</div>"
      ],
      "text/plain": [
       "                                                       0  ACT_FLG\n",
       "REP_D      REG                                                   \n",
       "2020-01-31 Архангельская обл.                         40       38\n",
       "           Респ. Бурятия                              35       23\n",
       "           Респ. Карелия                              12        8\n",
       "           Респ. Коми                                186      173\n",
       "           Респ. Марий Эл                             33       32\n",
       "...                                                  ...      ...\n",
       "2020-06-30 Новосибирская обл.                        224      106\n",
       "           Омская обл.                               274      178\n",
       "           Оренбургская обл.                         331      226\n",
       "           Пензенская обл.                           135       44\n",
       "           г. Санкт-Петербург и Ленинградская обл.  3246      568\n",
       "\n",
       "[363 rows x 2 columns]"
      ]
     },
     "execution_count": 85,
     "metadata": {},
     "output_type": "execute_result"
    }
   ],
   "source": [
    "df1.sort_values(by=['REP_D'])"
   ]
  },
  {
   "cell_type": "code",
   "execution_count": 86,
   "metadata": {},
   "outputs": [],
   "source": [
    "df1.to_csv('2.csv',encoding='cp1251')"
   ]
  },
  {
   "cell_type": "code",
   "execution_count": null,
   "metadata": {},
   "outputs": [],
   "source": []
  }
 ],
 "metadata": {
  "kernelspec": {
   "display_name": "Python 3",
   "language": "python",
   "name": "python3"
  },
  "language_info": {
   "codemirror_mode": {
    "name": "ipython",
    "version": 3
   },
   "file_extension": ".py",
   "mimetype": "text/x-python",
   "name": "python",
   "nbconvert_exporter": "python",
   "pygments_lexer": "ipython3",
   "version": "3.7.5"
  }
 },
 "nbformat": 4,
 "nbformat_minor": 2
}

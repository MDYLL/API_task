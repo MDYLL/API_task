{
 "cells": [
  {
   "cell_type": "code",
   "execution_count": 1,
   "metadata": {},
   "outputs": [
    {
     "name": "stdout",
     "output_type": "stream",
     "text": [
      " Том в устройстве C имеет метку Windows 10\n",
      " Серийный номер тома: 26B0-7DC5\n",
      "\n",
      " Содержимое папки C:\\Users\\User\\API_task\n",
      "\n",
      "24.02.2020  15:51    <DIR>          .\n",
      "24.02.2020  15:51    <DIR>          ..\n",
      "24.02.2020  15:51    <DIR>          .ipynb_checkpoints\n",
      "17.02.2020  21:08           840 655 API.ipynb\n",
      "16.02.2020  23:29           888 370 API_1month_before.ipynb\n",
      "21.02.2020  14:54         1 397 934 API_1month_before_v2.ipynb\n",
      "17.02.2020  15:02         1 388 623 API_1month_before_v2-checkpoint.ipynb\n",
      "16.02.2020  21:20           888 484 API_1month_before-checkpoint.ipynb\n",
      "19.02.2020  20:38           919 551 API_2months_before.ipynb\n",
      "21.02.2020  15:12            75 010 API_2months_before-checkpoint.ipynb\n",
      "17.02.2020  17:44        20 938 193 bigData_V31.csv\n",
      "16.02.2020  18:17                67 README.md\n",
      "17.02.2020  17:29                72 Untitled.ipynb\n",
      "24.02.2020  15:51                72 Untitled1.ipynb\n",
      "              11 файлов     27 337 031 байт\n",
      "               3 папок  12 859 146 240 байт свободно\n"
     ]
    }
   ],
   "source": [
    "ls"
   ]
  },
  {
   "cell_type": "code",
   "execution_count": null,
   "metadata": {},
   "outputs": [],
   "source": []
  }
 ],
 "metadata": {
  "kernelspec": {
   "display_name": "Python 3",
   "language": "python",
   "name": "python3"
  },
  "language_info": {
   "codemirror_mode": {
    "name": "ipython",
    "version": 3
   },
   "file_extension": ".py",
   "mimetype": "text/x-python",
   "name": "python",
   "nbconvert_exporter": "python",
   "pygments_lexer": "ipython3",
   "version": "3.7.5"
  }
 },
 "nbformat": 4,
 "nbformat_minor": 2
}
